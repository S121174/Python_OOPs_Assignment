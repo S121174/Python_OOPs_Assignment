{
  "nbformat": 4,
  "nbformat_minor": 0,
  "metadata": {
    "colab": {
      "provenance": []
    },
    "kernelspec": {
      "name": "python3",
      "display_name": "Python 3"
    },
    "language_info": {
      "name": "python"
    }
  },
  "cells": [
    {
      "cell_type": "markdown",
      "source": [],
      "metadata": {
        "id": "PpWB6P6hCTAd"
      }
    },
    {
      "cell_type": "markdown",
      "source": [
        "# Python OOPs Assignment Questions"
      ],
      "metadata": {
        "id": "Uda9NeVqCUhu"
      }
    },
    {
      "cell_type": "markdown",
      "source": [
        "1. What is Object-Oriented Programming (OOP)"
      ],
      "metadata": {
        "id": "VqEUbyGjCrVU"
      }
    },
    {
      "cell_type": "markdown",
      "source": [
        "   - Object-Oriented Programming (OOP) is a programming paradigm that organizes software design around objects rather than functions and logic. An object is a self-contained unit that bundles both data (attributes) and behavior (methods or functions)."
      ],
      "metadata": {
        "id": "LFIQSpvHCxca"
      }
    },
    {
      "cell_type": "markdown",
      "source": [
        "2. What is a class in OOP?"
      ],
      "metadata": {
        "id": "nPzU1R15EUwZ"
      }
    },
    {
      "cell_type": "markdown",
      "source": [
        "-  Object-Oriented Programming (OOP) is a programming approach that organizes software design around objects rather than functions and logic. These objects are instances of classes, which are like blueprints for creating individual items with specific data and behaviors.\n",
        "\n"
      ],
      "metadata": {
        "id": "OtGAzWGeEY4v"
      }
    },
    {
      "cell_type": "markdown",
      "source": [
        "3.  What is an object in OOP?"
      ],
      "metadata": {
        "id": "YoH-16pDFT28"
      }
    },
    {
      "cell_type": "markdown",
      "source": [
        "  - An object is an instance of a class in OOP. It is a real-world entity that has:\n",
        "\n",
        "Attributes (also called properties or data): What the object has\n",
        "\n",
        "Methods (also called functions or behavior): What the object does"
      ],
      "metadata": {
        "id": "gJrCnhbyFkrm"
      }
    },
    {
      "cell_type": "markdown",
      "source": [
        "4.  What is the difference between abstraction and encapsulation?"
      ],
      "metadata": {
        "id": "ol26E8jVGMHi"
      }
    },
    {
      "cell_type": "markdown",
      "source": [
        "   - Both abstraction and encapsulation are important concepts in Object-Oriented Programming (OOP), but they serve different purposes. Here's a breakdown:\n",
        "\n",
        "🧳 Abstraction:\n",
        "Definition: Abstraction is the concept of hiding complex implementation details and showing only the essential features of an object.\n",
        "\n",
        "Purpose: To simplify the interface for the user and make interaction easier by hiding unnecessary details.\n",
        "\n",
        "Focus: What an object does, not how it does it.\n",
        "🛡️ Encapsulation:\n",
        "Definition: Encapsulation is the concept of bundling data and methods that work on the data within a single unit (a class), and restricting access to some of the object’s components.\n",
        "\n",
        "Purpose: To protect an object's data from unauthorized access and modification. This is typically done using access modifiers like private, protected, or public.\n",
        "\n",
        "Focus: How the data is protected and managed."
      ],
      "metadata": {
        "id": "xJkUieggGYKa"
      }
    },
    {
      "cell_type": "markdown",
      "source": [
        "5. What are dunder methods in Python?"
      ],
      "metadata": {
        "id": "l4CDBDJoHEZ9"
      }
    },
    {
      "cell_type": "markdown",
      "source": [
        "   - 🦸‍♂️ Dunder Methods in Python (also known as Magic Methods or Special Methods)\n",
        "Dunder methods are special methods in Python that begin and end with double underscores (__). They are reserved methods used by Python to perform certain operations on objects. These methods enable objects to interact with built-in functions, operators, and even user-defined behaviors.\n",
        "\n",
        "⚡ Why are they called \"Dunder\"?\n",
        "The term \"Dunder\" comes from \"Double Underscore\" (often abbreviated as dunder), as these methods have double underscores before and after their names, like __init__, __str__, etc."
      ],
      "metadata": {
        "id": "ssgpu2fRHIHV"
      }
    },
    {
      "cell_type": "markdown",
      "source": [
        "6.  Explain the concept of inheritance in OOP?"
      ],
      "metadata": {
        "id": "rVS4JiJOHQGt"
      }
    },
    {
      "cell_type": "markdown",
      "source": [
        "   - 🌳 Inheritance in Object-Oriented Programming (OOP)\n",
        "Inheritance is a key concept in Object-Oriented Programming (OOP) that allows a new class (called a child class or subclass) to inherit attributes and methods from an existing class (called a parent class or superclass). It enables the reusability of code and allows for hierarchical class structures.\n",
        "\n"
      ],
      "metadata": {
        "id": "nMnNTF96Hoja"
      }
    },
    {
      "cell_type": "markdown",
      "source": [
        "7. What is polymorphism in OOP?"
      ],
      "metadata": {
        "id": "vzMULYZ5H93P"
      }
    },
    {
      "cell_type": "markdown",
      "source": [
        "  - Polymorphism is a core concept in Object-Oriented Programming (OOP) that allows objects of different classes to be treated as objects of a common superclass. The term \"polymorphism\" comes from the Greek words \"poly\" (meaning many) and \"morph\" (meaning forms), so it essentially means \"many forms.\"\n",
        "\n",
        "In simpler terms, polymorphism allows one interface (method) to work with different types of objects in a way that the correct method or behavior is chosen depending on the object."
      ],
      "metadata": {
        "id": "_YFoxTuUIhwZ"
      }
    },
    {
      "cell_type": "markdown",
      "source": [
        "8.  How is encapsulation achieved in Python?"
      ],
      "metadata": {
        "id": "SsdVL0j2It7l"
      }
    },
    {
      "cell_type": "markdown",
      "source": [
        "  - 🔐 Encapsulation in Python (OOP)\n",
        "Encapsulation is an Object-Oriented Programming principle that restricts direct access to some of an object’s components, which helps to:\n",
        "\n",
        "Protect internal object state\n",
        "\n",
        "Control how data is modified\n",
        "\n",
        "Hide implementation details"
      ],
      "metadata": {
        "id": "yxMin-U0JLJ8"
      }
    },
    {
      "cell_type": "markdown",
      "source": [],
      "metadata": {
        "id": "nj9dFtsAJO6R"
      }
    },
    {
      "cell_type": "markdown",
      "source": [
        "9. What is a constructor in Python?"
      ],
      "metadata": {
        "id": "yJl7yBq6JRfw"
      }
    },
    {
      "cell_type": "markdown",
      "source": [
        "  - A constructor in Python is a special method used to initialize the newly created object of a class. It automatically runs when an object is created."
      ],
      "metadata": {
        "id": "_vvbRdHfJYqz"
      }
    },
    {
      "cell_type": "markdown",
      "source": [
        "10. What are class and static methods in Python?"
      ],
      "metadata": {
        "id": "_DOKktsBJnK-"
      }
    },
    {
      "cell_type": "markdown",
      "source": [
        "  - In Python, class methods and static methods are two types of methods that differ from regular instance methods in how they access data and what they are used for. Here's a clear breakdown:"
      ],
      "metadata": {
        "id": "32SlfiwtKAFq"
      }
    },
    {
      "cell_type": "markdown",
      "source": [
        "11. What is method overloading in Python?"
      ],
      "metadata": {
        "id": "eG_tz-yDKFDP"
      }
    },
    {
      "cell_type": "markdown",
      "source": [
        "  - Method Overloading in Python\n",
        "Method overloading refers to defining multiple methods with the same name but different parameters (like in Java or C++). While Python doesn't support traditional method overloading directly, it allows for similar behavior using default arguments or variable-length arguments.\n",
        "\n"
      ],
      "metadata": {
        "id": "iRMRF9oIKMDa"
      }
    },
    {
      "cell_type": "markdown",
      "source": [
        "12. What is method overriding in OOP?"
      ],
      "metadata": {
        "id": "oiawnpfcKUkr"
      }
    },
    {
      "cell_type": "markdown",
      "source": [
        "  - Method Overriding in OOP (Object-Oriented Programming)\n",
        "Method overriding is a feature in object-oriented programming that allows a subclass to provide a specific implementation of a method that is already defined in its superclass.\n",
        "\n",
        "🔁 What It Means:\n",
        "The child class (subclass) has a method with the same name, parameters, and signature as a method in the parent class (superclass).\n",
        "\n",
        "When you call the method on an object of the subclass, the child class’s version gets executed—not the parent’s.\n",
        "\n",
        "It enables polymorphism, where the same method behaves differently depending on the object calling it.\n",
        "\n"
      ],
      "metadata": {
        "id": "cETLSX9CKi40"
      }
    },
    {
      "cell_type": "markdown",
      "source": [
        "13. What is a property decorator in Python?"
      ],
      "metadata": {
        "id": "0hCZ9R4jKlFX"
      }
    },
    {
      "cell_type": "markdown",
      "source": [
        "  - 🏷️ @property Decorator in Python\n",
        "The @property decorator in Python is used to define a method as a read-only attribute, creating a clean, getter-like interface for class attributes.\n",
        "\n",
        "✅ Purpose:\n",
        "Encapsulate instance data (like using private variables).\n",
        "\n",
        "Control access to an attribute (e.g., validate or compute values on access).\n",
        "\n",
        "Make method calls look like attribute access.\n",
        "\n"
      ],
      "metadata": {
        "id": "u20qw3SQKtE8"
      }
    },
    {
      "cell_type": "markdown",
      "source": [
        "14. Why is polymorphism important in OOP?"
      ],
      "metadata": {
        "id": "x3t5m0M0K365"
      }
    },
    {
      "cell_type": "markdown",
      "source": [
        "  - Polymorphism is one of the four core principles of Object-Oriented Programming (OOP), alongside encapsulation, inheritance, and abstraction. It allows objects of different classes to be treated as if they were objects of a common superclass—enabling flexible and maintainable code.\n",
        "\n",
        "✅ Definition:\n",
        "Polymorphism means \"many forms\" — the ability for different classes to respond to the same method call in a way appropriate to their type.\n",
        "\n"
      ],
      "metadata": {
        "id": "GEYeYVpbK_ny"
      }
    },
    {
      "cell_type": "markdown",
      "source": [
        "15.  What is an abstract class in Python?"
      ],
      "metadata": {
        "id": "UkhixbG7LLOR"
      }
    },
    {
      "cell_type": "markdown",
      "source": [
        "  - An abstract class in Python is a class that cannot be instantiated directly and is designed to be inherited by other classes. It defines a common interface for its subclasses and can include abstract methods—methods that must be implemented by any subclass.\n",
        "\n"
      ],
      "metadata": {
        "id": "ZWQp0iFMLYuo"
      }
    },
    {
      "cell_type": "markdown",
      "source": [
        "16. What are the advantages of OOP?"
      ],
      "metadata": {
        "id": "HX7hOxjxLm-p"
      }
    },
    {
      "cell_type": "markdown",
      "source": [
        "  - ✅ Advantages of Object-Oriented Programming (OOP)\n",
        "Object-Oriented Programming is a programming paradigm based on the concept of “objects” — which encapsulate data (attributes) and behavior (methods). OOP offers several key advantages, especially for building scalable, maintainable, and modular software."
      ],
      "metadata": {
        "id": "cDtbxWRbLyz0"
      }
    },
    {
      "cell_type": "markdown",
      "source": [
        "17. What is the difference between a class variable and an instance variable?"
      ],
      "metadata": {
        "id": "IedXPt9AL-E8"
      }
    },
    {
      "cell_type": "markdown",
      "source": [
        "  - 🆚 Difference Between Class Variables and Instance Variables in Python\n",
        "In Python, both class variables and instance variables are used to store data, but they have different scopes, behaviors, and purposes.                                                                                               \n",
        "\n",
        "\n",
        "\n",
        "\n",
        " | Feature          | Instance Variable                                 | Class Variable                                                                |\n",
        "| ---------------- | ------------------------------------------------- | ----------------------------------------------------------------------------- |\n",
        "| **Scope**        | Specific to an instance of the class              | Shared among all instances of the class                                       |\n",
        "| **Memory**       | Each instance has its own copy                    | Only one copy for all instances                                               |\n",
        "| **Access**       | Accessed via `self` (or instance)                 | Accessed via `ClassName` or `self`                                            |\n",
        "| **Modification** | Can be modified for individual instances          | Modifying it via an instance changes it for all instances (unless overridden) |\n",
        "| **Created**      | Inside the `__init__` method (or instance method) | Directly inside the class body                                                |\n"
      ],
      "metadata": {
        "id": "Ii-V1T5uMFmF"
      }
    },
    {
      "cell_type": "markdown",
      "source": [
        "18.  What is multiple inheritance in Python?"
      ],
      "metadata": {
        "id": "9xERxMEaMymQ"
      }
    },
    {
      "cell_type": "markdown",
      "source": [
        "  - Multiple inheritance is a feature in Python where a class can inherit attributes and methods from more than one parent class. This allows a subclass to inherit functionality from multiple base classes.\n",
        "\n",
        "✅ Key Points:\n",
        "Multiple base classes: A single subclass can inherit from more than one class.\n",
        "\n",
        "Mixing functionality: It allows combining the functionality of different base classes into a single subclass.\n",
        "\n",
        "Method Resolution Order (MRO): In cases of method name conflicts, Python uses the C3 Linearization algorithm to determine the order in which methods are inherited.\n",
        "\n"
      ],
      "metadata": {
        "id": "8PUbabAXNCEV"
      }
    },
    {
      "cell_type": "markdown",
      "source": [
        "19. H Explain the purpose of ‘’__str__’ and ‘__repr__’ ‘ methods in Python?"
      ],
      "metadata": {
        "id": "SyFhxAg1NOUD"
      }
    },
    {
      "cell_type": "markdown",
      "source": [
        "  - In Python, both __str__ and __repr__ are special methods that control how an object is represented as a string, but they are used in different contexts and serve different purposes.\n",
        "\n"
      ],
      "metadata": {
        "id": "FYpOnSnYNWL5"
      }
    },
    {
      "cell_type": "markdown",
      "source": [
        "20. What is the significance of the ‘super()’ function in Python?"
      ],
      "metadata": {
        "id": "bOBr5Xc-Nlgu"
      }
    },
    {
      "cell_type": "markdown",
      "source": [
        "  - 🎯 Significance of the super() Function in Python\n",
        "The super() function in Python is used to call a method or constructor from a parent class (also known as a superclass) from within a subclass. It plays a vital role in inheritance, allowing a class to access methods from its parent class and manage method resolution in complex inheritance structures.\n",
        "\n"
      ],
      "metadata": {
        "id": "fA4zywqlNsFg"
      }
    },
    {
      "cell_type": "markdown",
      "source": [
        "21. What is the significance of the __del__ method in Python?"
      ],
      "metadata": {
        "id": "072ZooqVN0PE"
      }
    },
    {
      "cell_type": "markdown",
      "source": [
        "  - 🎯 Significance of the __del__ Method in Python\n",
        "The __del__ method in Python is a special method that is used to define the destructor for an object. It is called when an object is about to be destroyed or garbage collected. The purpose of __del__ is to provide a way to release any resources (such as closing files, network connections, or releasing memory) that the object might be holding before it gets deleted from memory.\n",
        "\n"
      ],
      "metadata": {
        "id": "wmDv20dTN7JK"
      }
    },
    {
      "cell_type": "markdown",
      "source": [
        "22. What is the difference between @staticmethod and @classmethod in Python?"
      ],
      "metadata": {
        "id": "byGOJPnDOEFr"
      }
    },
    {
      "cell_type": "markdown",
      "source": [
        "  - 🎯 Difference Between @staticmethod and @classmethod in Python\n",
        "In Python, both @staticmethod and @classmethod are decorators that allow you to define methods that are not bound to an instance (not dependent on self), but they are still tied to the class itself. Despite their similarities, they serve different purposes and behave in distinct ways.\n",
        "\n"
      ],
      "metadata": {
        "id": "-C_9AM6JOR02"
      }
    },
    {
      "cell_type": "markdown",
      "source": [
        "23. How does polymorphism work in Python with inheritance?"
      ],
      "metadata": {
        "id": "fbHymKozOe2S"
      }
    },
    {
      "cell_type": "markdown",
      "source": [
        "  - Polymorphism is one of the fundamental principles of Object-Oriented Programming (OOP), and it refers to the ability of different classes to be treated as instances of the same class through inheritance. Specifically, polymorphism allows a method to have different behaviors depending on the object that calls it.\n",
        "\n",
        "In Python, polymorphism typically works through method overriding in an inheritance hierarchy, allowing a child class to provide a specific implementation of a method that is already defined in its parent class.\n",
        "\n"
      ],
      "metadata": {
        "id": "R0-6_UK8Osme"
      }
    },
    {
      "cell_type": "markdown",
      "source": [
        "24. What is method chaining in Python OOP"
      ],
      "metadata": {
        "id": "uRi8wbB9OwKN"
      }
    },
    {
      "cell_type": "markdown",
      "source": [
        "  - 🎯 What is Method Chaining in Python OOP?\n",
        "Method chaining in Python is a programming technique where you call multiple methods on the same object in a single line of code, with each method returning the object itself or a modified version of it. This allows you to \"chain\" method calls together in a sequence.\n",
        "\n",
        "✅ How Does Method Chaining Work?\n",
        "Method chaining works when each method of a class returns the same object (or a modified version of it), allowing you to call another method on that object immediately after."
      ],
      "metadata": {
        "id": "z3wYyhOYPEMQ"
      }
    },
    {
      "cell_type": "markdown",
      "source": [
        "25. What is the purpose of the __call__ method in Python?"
      ],
      "metadata": {
        "id": "dxLvUmlJPHS2"
      }
    },
    {
      "cell_type": "markdown",
      "source": [
        "  - 🎯 Purpose of the __call__ Method in Python\n",
        "In Python, the __call__ method is a special (or \"magic\") method that allows an instance of a class to be called like a function. In other words, it enables an object to behave as if it were a function.\n",
        "\n",
        "When an object is \"called,\" Python invokes the __call__ method. This gives you the ability to add function-like behavior to objects, which can be useful in various scenarios where you need to have objects act like functions or provide a flexible interface for the object."
      ],
      "metadata": {
        "id": "W04E4BzjPPmj"
      }
    },
    {
      "cell_type": "markdown",
      "source": [
        "# Practical Questions"
      ],
      "metadata": {
        "id": "iqlm-gsEPYud"
      }
    },
    {
      "cell_type": "markdown",
      "source": [
        " 1. Create a parent class Animal with a method speak() that prints a generic message. Create a child class Dog\n",
        "that overrides the speak() method to print \"Bark!\""
      ],
      "metadata": {
        "id": "il9PckQnPjFF"
      }
    },
    {
      "cell_type": "code",
      "source": [
        "# Parent class Animal\n",
        "class Animal:\n",
        "    def speak(self):\n",
        "        print(\"Animal makes a sound\")\n",
        "\n",
        "# Child class Dog that overrides the speak() method\n",
        "class Dog(Animal):\n",
        "    def speak(self):\n",
        "        print(\"Bark!\")\n",
        "\n",
        "# Creating instances of Animal and Dog\n",
        "animal = Animal()\n",
        "dog = Dog()\n",
        "\n",
        "# Calling the speak method on both instances\n",
        "animal.speak()  # Output: Animal makes a sound\n",
        "dog.speak()     # Output: Bark!\n"
      ],
      "metadata": {
        "colab": {
          "base_uri": "https://localhost:8080/"
        },
        "id": "gJfZXqqFPtXF",
        "outputId": "5a43a8fe-4d86-4818-d230-834268feaa61"
      },
      "execution_count": 1,
      "outputs": [
        {
          "output_type": "stream",
          "name": "stdout",
          "text": [
            "Animal makes a sound\n",
            "Bark!\n"
          ]
        }
      ]
    },
    {
      "cell_type": "markdown",
      "source": [
        "2. Write a program to create an abstract class Shape with a method area(). Derive classes Circle and Rectangle\n",
        "from it and implement the area() method in both."
      ],
      "metadata": {
        "id": "4GuLmPWrQHie"
      }
    },
    {
      "cell_type": "code",
      "source": [
        "from abc import ABC, abstractmethod\n",
        "import math\n",
        "\n",
        "# Abstract class Shape\n",
        "class Shape(ABC):\n",
        "    @abstractmethod\n",
        "    def area(self):\n",
        "        pass\n",
        "\n",
        "# Class Circle that inherits from Shape\n",
        "class Circle(Shape):\n",
        "    def __init__(self, radius):\n",
        "        self.radius = radius\n",
        "\n",
        "    def area(self):\n",
        "        return math.pi * (self.radius ** 2)\n",
        "\n",
        "# Class Rectangle that inherits from Shape\n",
        "class Rectangle(Shape):\n",
        "    def __init__(self, length, width):\n",
        "        self.length = length\n",
        "        self.width = width\n",
        "\n",
        "    def area(self):\n",
        "        return self.length * self.width\n",
        "\n",
        "# Creating objects of Circle and Rectangle\n",
        "circle = Circle(5)\n",
        "rectangle = Rectangle(4, 6)\n",
        "\n",
        "# Calling the area method on both objects\n",
        "print(f\"Area of the circle: {circle.area()}\")  # Output: Area of the circle: 78.53981633974483\n",
        "print(f\"Area of the rectangle: {rectangle.area()}\")  # Output: Area of the rectangle: 24\n"
      ],
      "metadata": {
        "colab": {
          "base_uri": "https://localhost:8080/"
        },
        "id": "910-5XziQOIh",
        "outputId": "8d6d720b-8c5d-488d-989a-f5edfb759521"
      },
      "execution_count": 2,
      "outputs": [
        {
          "output_type": "stream",
          "name": "stdout",
          "text": [
            "Area of the circle: 78.53981633974483\n",
            "Area of the rectangle: 24\n"
          ]
        }
      ]
    },
    {
      "cell_type": "markdown",
      "source": [
        "3. Implement a multi-level inheritance scenario where a class Vehicle has an attribute type. Derive a class Car\n",
        "and further derive a class ElectricCar that adds a battery attribute."
      ],
      "metadata": {
        "id": "Y93_HTZBQbOo"
      }
    },
    {
      "cell_type": "code",
      "source": [
        "# Base class Vehicle\n",
        "class Vehicle:\n",
        "    def __init__(self, type):\n",
        "        self.type = type\n",
        "\n",
        "    def display_type(self):\n",
        "        print(f\"Vehicle type: {self.type}\")\n",
        "\n",
        "# Class Car that inherits from Vehicle\n",
        "class Car(Vehicle):\n",
        "    def __init__(self, type, make, model):\n",
        "        # Call the parent class constructor to initialize type\n",
        "        super().__init__(type)\n",
        "        self.make = make\n",
        "        self.model = model\n",
        "\n",
        "    def display_car_info(self):\n",
        "        print(f\"Car make: {self.make}, Model: {self.model}\")\n",
        "\n",
        "# Class ElectricCar that inherits from Car\n",
        "class ElectricCar(Car):\n",
        "    def __init__(self, type, make, model, battery):\n",
        "        # Call the parent class constructor to initialize type, make, and model\n",
        "        super().__init__(type, make, model)\n",
        "        self.battery = battery\n",
        "\n",
        "    def display_battery_info(self):\n",
        "        print(f\"Battery: {self.battery} kWh\")\n",
        "\n",
        "# Creating an instance of ElectricCar\n",
        "electric_car = ElectricCar(\"Electric\", \"Tesla\", \"Model S\", 100)\n",
        "\n",
        "# Displaying information using methods from each class\n",
        "electric_car.display_type()         # From Vehicle class\n",
        "electric_car.display_car_info()     # From Car class\n",
        "electric_car.display_battery_info() # From ElectricCar class\n"
      ],
      "metadata": {
        "colab": {
          "base_uri": "https://localhost:8080/"
        },
        "id": "FwKRbdbaQyYc",
        "outputId": "37c0ff45-1b9c-4be7-e068-526f8a43769d"
      },
      "execution_count": 3,
      "outputs": [
        {
          "output_type": "stream",
          "name": "stdout",
          "text": [
            "Vehicle type: Electric\n",
            "Car make: Tesla, Model: Model S\n",
            "Battery: 100 kWh\n"
          ]
        }
      ]
    },
    {
      "cell_type": "markdown",
      "source": [
        "4. Demonstrate polymorphism by creating a base class Bird with a method fly(). Create two derived classes\n",
        "Sparrow and Penguin that override the fly() method.\n"
      ],
      "metadata": {
        "id": "xPdGXKhEQ28M"
      }
    },
    {
      "cell_type": "code",
      "source": [
        "# Base class Bird\n",
        "class Bird:\n",
        "    def fly(self):\n",
        "        print(\"Bird is flying\")\n",
        "\n",
        "# Derived class Sparrow that overrides the fly() method\n",
        "class Sparrow(Bird):\n",
        "    def fly(self):\n",
        "        print(\"Sparrow is flying in the sky\")\n",
        "\n",
        "# Derived class Penguin that overrides the fly() method\n",
        "class Penguin(Bird):\n",
        "    def fly(self):\n",
        "        print(\"Penguin cannot fly\")\n",
        "\n",
        "# Creating instances of Sparrow and Penguin\n",
        "sparrow = Sparrow()\n",
        "penguin = Penguin()\n",
        "\n",
        "# Demonstrating polymorphism by calling the fly() method on both objects\n",
        "sparrow.fly()   # Output: Sparrow is flying in the sky\n",
        "penguin.fly()   # Output: Penguin cannot fly\n"
      ],
      "metadata": {
        "colab": {
          "base_uri": "https://localhost:8080/"
        },
        "id": "Ove-XmWGRET2",
        "outputId": "b37e78d6-52e4-4780-e850-3208e5ab8c6c"
      },
      "execution_count": 4,
      "outputs": [
        {
          "output_type": "stream",
          "name": "stdout",
          "text": [
            "Sparrow is flying in the sky\n",
            "Penguin cannot fly\n"
          ]
        }
      ]
    },
    {
      "cell_type": "markdown",
      "source": [
        "5. Write a program to demonstrate encapsulation by creating a class BankAccount with private attributes\n",
        "balance and methods to deposit, withdraw, and check balance."
      ],
      "metadata": {
        "id": "2oCrNkK3RU96"
      }
    },
    {
      "cell_type": "code",
      "source": [
        "# Class BankAccount to demonstrate encapsulation\n",
        "class BankAccount:\n",
        "    def __init__(self, owner, balance=0):\n",
        "        self.owner = owner\n",
        "        self.__balance = balance  # Private attribute to store balance\n",
        "\n",
        "    # Method to deposit money into the account\n",
        "    def deposit(self, amount):\n",
        "        if amount > 0:\n",
        "            self.__balance += amount\n",
        "            print(f\"Deposited: ${amount}\")\n",
        "        else:\n",
        "            print(\"Deposit amount must be positive.\")\n",
        "\n",
        "    # Method to withdraw money from the account\n",
        "    def withdraw(self, amount):\n",
        "        if 0 < amount <= self.__balance:\n",
        "            self.__balance -= amount\n",
        "            print(f\"Withdrawn: ${amount}\")\n",
        "        else:\n",
        "            print(\"Invalid withdrawal amount or insufficient balance.\")\n",
        "\n",
        "    # Method to check the current balance\n",
        "    def check_balance(self):\n",
        "        print(f\"Current balance: ${self.__balance}\")\n",
        "\n",
        "# Creating a BankAccount object for a user\n",
        "account = BankAccount(\"Alice\", 1000)\n",
        "\n",
        "# Checking initial balance\n",
        "account.check_balance()  # Output: Current balance: $1000\n",
        "\n",
        "# Depositing money\n",
        "account.deposit(500)     # Output: Deposited: $500\n",
        "account.check_balance()  # Output: Current balance: $1500\n",
        "\n",
        "# Withdrawing money\n",
        "account.withdraw(200)    # Output: Withdrawn: $200\n",
        "account.check_balance()  # Output: Current balance: $1300\n",
        "\n",
        "# Trying to withdraw more than available balance\n",
        "account.withdraw(2000)   # Output: Invalid withdrawal amount or insufficient balance.\n"
      ],
      "metadata": {
        "colab": {
          "base_uri": "https://localhost:8080/"
        },
        "id": "JE-DIBVrRgd8",
        "outputId": "320d74fa-a328-4449-acf7-4259c1bfe6ff"
      },
      "execution_count": 5,
      "outputs": [
        {
          "output_type": "stream",
          "name": "stdout",
          "text": [
            "Current balance: $1000\n",
            "Deposited: $500\n",
            "Current balance: $1500\n",
            "Withdrawn: $200\n",
            "Current balance: $1300\n",
            "Invalid withdrawal amount or insufficient balance.\n"
          ]
        }
      ]
    },
    {
      "cell_type": "markdown",
      "source": [
        "6. Demonstrate runtime polymorphism using a method play() in a base class Instrument. Derive classes Guitar\n",
        "and Piano that implement their own version of play()."
      ],
      "metadata": {
        "id": "k4jlOXuJRlUC"
      }
    },
    {
      "cell_type": "code",
      "source": [
        "# Base class Instrument\n",
        "class Instrument:\n",
        "    def play(self):\n",
        "        print(\"Instrument is playing a sound\")\n",
        "\n",
        "# Derived class Guitar that overrides the play() method\n",
        "class Guitar(Instrument):\n",
        "    def play(self):\n",
        "        print(\"Guitar is strumming a tune\")\n",
        "\n",
        "# Derived class Piano that overrides the play() method\n",
        "class Piano(Instrument):\n",
        "    def play(self):\n",
        "        print(\"Piano is playing a melody\")\n",
        "\n",
        "# Function to demonstrate runtime polymorphism\n",
        "def play_instrument(instrument: Instrument):\n",
        "    instrument.play()  # This will call the play() method based on the object type\n",
        "\n",
        "# Creating objects of Guitar and Piano\n",
        "guitar = Guitar()\n",
        "piano = Piano()\n",
        "\n",
        "# Demonstrating runtime polymorphism\n",
        "play_instrument(guitar)  # Output: Guitar is strumming a tune\n",
        "play_instrument(piano)   # Output: Piano is playing a melody\n"
      ],
      "metadata": {
        "colab": {
          "base_uri": "https://localhost:8080/"
        },
        "id": "781ASDixRv_4",
        "outputId": "1413d54c-ffe9-4be6-dc47-9d72ef96ac69"
      },
      "execution_count": 6,
      "outputs": [
        {
          "output_type": "stream",
          "name": "stdout",
          "text": [
            "Guitar is strumming a tune\n",
            "Piano is playing a melody\n"
          ]
        }
      ]
    },
    {
      "cell_type": "markdown",
      "source": [
        "7. Create a class MathOperations with a class method add_numbers() to add two numbers and a static\n",
        "method subtract_numbers() to subtract two numbers."
      ],
      "metadata": {
        "id": "nJ7_20zwR-xx"
      }
    },
    {
      "cell_type": "code",
      "source": [
        "class MathOperations:\n",
        "\n",
        "    # Class method to add two numbers\n",
        "    @classmethod\n",
        "    def add_numbers(cls, num1, num2):\n",
        "        return num1 + num2\n",
        "\n",
        "    # Static method to subtract two numbers\n",
        "    @staticmethod\n",
        "    def subtract_numbers(num1, num2):\n",
        "        return num1 - num2\n",
        "\n",
        "# Using the class method and static method\n",
        "result_add = MathOperations.add_numbers(5, 3)  # Calling class method\n",
        "result_subtract = MathOperations.subtract_numbers(5, 3)  # Calling static method\n",
        "\n",
        "# Printing the results\n",
        "print(f\"Addition Result: {result_add}\")  # Output: Addition Result: 8\n",
        "print(f\"Subtraction Result: {result_subtract}\")  # Output: Subtraction Result: 2\n"
      ],
      "metadata": {
        "colab": {
          "base_uri": "https://localhost:8080/"
        },
        "id": "ZU3nM6tzSAfm",
        "outputId": "3e51d634-78e3-4a7c-c4b0-db8ad5e462b5"
      },
      "execution_count": 7,
      "outputs": [
        {
          "output_type": "stream",
          "name": "stdout",
          "text": [
            "Addition Result: 8\n",
            "Subtraction Result: 2\n"
          ]
        }
      ]
    },
    {
      "cell_type": "markdown",
      "source": [
        "8. Implement a class Person with a class method to count the total number of persons created."
      ],
      "metadata": {
        "id": "zgbCviIZSLnC"
      }
    },
    {
      "cell_type": "code",
      "source": [
        "class Person:\n",
        "    # Class variable to count the number of Person objects created\n",
        "    total_persons = 0\n",
        "\n",
        "    # Constructor to initialize a person\n",
        "    def __init__(self, name, age):\n",
        "        self.name = name\n",
        "        self.age = age\n",
        "        # Increment the counter each time a new object is created\n",
        "        Person.total_persons += 1\n",
        "\n",
        "    # Class method to return the total number of persons created\n",
        "    @classmethod\n",
        "    def count_total_persons(cls):\n",
        "        return cls.total_persons\n",
        "\n",
        "# Creating instances of Person\n",
        "person1 = Person(\"Alice\", 30)\n",
        "person2 = Person(\"Bob\", 25)\n",
        "person3 = Person(\"Charlie\", 35)\n",
        "\n",
        "# Calling the class method to get the total number of persons\n",
        "print(f\"Total number of persons created: {Person.count_total_persons()}\")  # Output: Total number of persons created: 3\n"
      ],
      "metadata": {
        "colab": {
          "base_uri": "https://localhost:8080/"
        },
        "id": "KRKd1UXCSNVv",
        "outputId": "dcaa6622-675c-44f8-de96-826c17962ac4"
      },
      "execution_count": 8,
      "outputs": [
        {
          "output_type": "stream",
          "name": "stdout",
          "text": [
            "Total number of persons created: 3\n"
          ]
        }
      ]
    },
    {
      "cell_type": "markdown",
      "source": [
        "9. Write a class Fraction with attributes numerator and denominator. Override the str method to display the\n",
        "fraction as \"numerator/denominator\"."
      ],
      "metadata": {
        "id": "SL7-Gn3JSU98"
      }
    },
    {
      "cell_type": "code",
      "source": [
        "class Fraction:\n",
        "    def __init__(self, numerator, denominator):\n",
        "        self.numerator = numerator\n",
        "        self.denominator = denominator\n",
        "\n",
        "    # Overriding the __str__ method to represent the fraction as \"numerator/denominator\"\n",
        "    def __str__(self):\n",
        "        return f\"{self.numerator}/{self.denominator}\"\n",
        "\n",
        "# Creating instances of the Fraction class\n",
        "fraction1 = Fraction(3, 4)\n",
        "fraction2 = Fraction(5, 7)\n",
        "\n",
        "# Printing the fractions using the overridden __str__ method\n",
        "print(fraction1)  # Output: 3/4\n",
        "print(fraction2)  # Output: 5/7\n"
      ],
      "metadata": {
        "colab": {
          "base_uri": "https://localhost:8080/"
        },
        "id": "MvIEoJH7SZbG",
        "outputId": "3e408d16-26aa-4de7-8f0c-0be6a3940603"
      },
      "execution_count": 9,
      "outputs": [
        {
          "output_type": "stream",
          "name": "stdout",
          "text": [
            "3/4\n",
            "5/7\n"
          ]
        }
      ]
    },
    {
      "cell_type": "markdown",
      "source": [
        "10. Demonstrate operator overloading by creating a class Vector and overriding the add method to add two\n",
        "vectors"
      ],
      "metadata": {
        "id": "Go7A209XSooi"
      }
    },
    {
      "cell_type": "code",
      "source": [
        "class Vector:\n",
        "    def __init__(self, x, y):\n",
        "        self.x = x\n",
        "        self.y = y\n",
        "\n",
        "    # Overriding the __add__ method to add two vectors\n",
        "    def __add__(self, other):\n",
        "        if isinstance(other, Vector):\n",
        "            return Vector(self.x + other.x, self.y + other.y)\n",
        "        return NotImplemented\n",
        "\n",
        "    # Overriding the __str__ method to display the vector in (x, y) format\n",
        "    def __str__(self):\n",
        "        return f\"({self.x}, {self.y})\"\n",
        "\n",
        "# Creating instances of the Vector class\n",
        "vector1 = Vector(1, 2)\n",
        "vector2 = Vector(3, 4)\n",
        "\n",
        "# Adding two vectors using the overloaded + operator\n",
        "result = vector1 + vector2\n",
        "\n",
        "# Printing the result of vector addition\n",
        "print(f\"Vector 1: {vector1}\")\n",
        "print(f\"Vector 2: {vector2}\")\n",
        "print(f\"Result of addition: {result}\")\n"
      ],
      "metadata": {
        "colab": {
          "base_uri": "https://localhost:8080/"
        },
        "id": "0ttOnTd1Sset",
        "outputId": "96b41f2c-d67e-43dd-b505-d7311456c586"
      },
      "execution_count": 10,
      "outputs": [
        {
          "output_type": "stream",
          "name": "stdout",
          "text": [
            "Vector 1: (1, 2)\n",
            "Vector 2: (3, 4)\n",
            "Result of addition: (4, 6)\n"
          ]
        }
      ]
    },
    {
      "cell_type": "markdown",
      "source": [
        "11. Create a class Person with attributes name and age. Add a method greet() that prints \"Hello, my name is\n",
        "{name} and I am {age} years old.\""
      ],
      "metadata": {
        "id": "VQUjRa71S1hq"
      }
    },
    {
      "cell_type": "code",
      "source": [
        "class Person:\n",
        "    def __init__(self, name, age):\n",
        "        self.name = name\n",
        "        self.age = age\n",
        "\n",
        "    # Method to greet the person with their name and age\n",
        "    def greet(self):\n",
        "        print(f\"Hello, my name is {self.name} and I am {self.age} years old.\")\n",
        "\n",
        "# Creating an instance of the Person class\n",
        "person1 = Person(\"Alice\", 30)\n",
        "person2 = Person(\"Bob\", 25)\n",
        "\n",
        "# Calling the greet method for both persons\n",
        "person1.greet()  # Output: Hello, my name is Alice and I am 30 years old.\n",
        "person2.greet()  # Output: Hello, my name is Bob and I am 25 years old.\n"
      ],
      "metadata": {
        "colab": {
          "base_uri": "https://localhost:8080/"
        },
        "id": "OHYod4CDS-D1",
        "outputId": "6ecd00d5-3fcc-4164-cd7a-fde02634fa16"
      },
      "execution_count": 11,
      "outputs": [
        {
          "output_type": "stream",
          "name": "stdout",
          "text": [
            "Hello, my name is Alice and I am 30 years old.\n",
            "Hello, my name is Bob and I am 25 years old.\n"
          ]
        }
      ]
    },
    {
      "cell_type": "markdown",
      "source": [
        "12. Implement a class Student with attributes name and grades. Create a method average_grade() to compute\n",
        "the average of the grades"
      ],
      "metadata": {
        "id": "HC01Q8CBTI3z"
      }
    },
    {
      "cell_type": "code",
      "source": [
        "class Student:\n",
        "    def __init__(self, name, grades):\n",
        "        self.name = name\n",
        "        self.grades = grades  # grades should be a list of numbers\n",
        "\n",
        "    # Method to compute the average of the grades\n",
        "    def average_grade(self):\n",
        "        if len(self.grades) == 0:\n",
        "            return 0  # Avoid division by zero if no grades are provided\n",
        "        return sum(self.grades) / len(self.grades)\n",
        "\n",
        "# Creating instances of the Student class\n",
        "student1 = Student(\"Alice\", [85, 90, 78, 92, 88])\n",
        "student2 = Student(\"Bob\", [75, 80, 85, 90])\n",
        "\n",
        "# Calling the average_grade method for both students\n",
        "print(f\"{student1.name}'s average grade: {student1.average_grade():.2f}\")\n",
        "print(f\"{student2.name}'s average grade: {student2.average_grade():.2f}\")\n"
      ],
      "metadata": {
        "colab": {
          "base_uri": "https://localhost:8080/"
        },
        "id": "xbbOe5fwTQvN",
        "outputId": "a6d3f6b8-fcff-4741-8f72-cb6020cf3c94"
      },
      "execution_count": 12,
      "outputs": [
        {
          "output_type": "stream",
          "name": "stdout",
          "text": [
            "Alice's average grade: 86.60\n",
            "Bob's average grade: 82.50\n"
          ]
        }
      ]
    },
    {
      "cell_type": "markdown",
      "source": [
        "13. Create a class Rectangle with methods set_dimensions() to set the dimensions and area() to calculate the\n",
        "area"
      ],
      "metadata": {
        "id": "W721JV_aTZUc"
      }
    },
    {
      "cell_type": "code",
      "source": [
        "class Rectangle:\n",
        "    def __init__(self):\n",
        "        self.length = 0\n",
        "        self.width = 0\n",
        "\n",
        "    # Method to set the dimensions of the rectangle\n",
        "    def set_dimensions(self, length, width):\n",
        "        self.length = length\n",
        "        self.width = width\n",
        "\n",
        "    # Method to calculate the area of the rectangle\n",
        "    def area(self):\n",
        "        return self.length * self.width\n",
        "\n",
        "# Creating an instance of the Rectangle class\n",
        "rect = Rectangle()\n",
        "\n",
        "# Setting the dimensions of the rectangle\n",
        "rect.set_dimensions(5, 3)\n",
        "\n",
        "# Calculating and printing the area\n",
        "print(f\"The area of the rectangle is: {rect.area()}\")  # Output: The area of the rectangle is: 15\n"
      ],
      "metadata": {
        "colab": {
          "base_uri": "https://localhost:8080/"
        },
        "id": "aZ6N7eVSTdlZ",
        "outputId": "a22303c8-dfc5-4891-8b73-1787de7e05c2"
      },
      "execution_count": 13,
      "outputs": [
        {
          "output_type": "stream",
          "name": "stdout",
          "text": [
            "The area of the rectangle is: 15\n"
          ]
        }
      ]
    },
    {
      "cell_type": "markdown",
      "source": [
        "14. Create a class Employee with a method calculate_salary() that computes the salary based on hours worked\n",
        "and hourly rate. Create a derived class Manager that adds a bonus to the salary."
      ],
      "metadata": {
        "id": "C4YxcgpCTnSD"
      }
    },
    {
      "cell_type": "code",
      "source": [
        "class Employee:\n",
        "    def __init__(self, name, hours_worked, hourly_rate):\n",
        "        self.name = name\n",
        "        self.hours_worked = hours_worked\n",
        "        self.hourly_rate = hourly_rate\n",
        "\n",
        "    # Method to calculate the salary based on hours worked and hourly rate\n",
        "    def calculate_salary(self):\n",
        "        return self.hours_worked * self.hourly_rate\n",
        "\n",
        "class Manager(Employee):\n",
        "    def __init__(self, name, hours_worked, hourly_rate, bonus):\n",
        "        # Call the parent constructor to initialize the employee's attributes\n",
        "        super().__init__(name, hours_worked, hourly_rate)\n",
        "        self.bonus = bonus\n",
        "\n",
        "    # Override calculate_salary to include bonus for the manager\n",
        "    def calculate_salary(self):\n",
        "        base_salary = super().calculate_salary()  # Call the base class method\n",
        "        return base_salary + self.bonus\n",
        "\n",
        "# Creating instances of Employee and Manager\n",
        "employee1 = Employee(\"Alice\", 160, 20)  # 160 hours, $20/hour\n",
        "manager1 = Manager(\"Bob\", 160, 25, 5000)  # 160 hours, $25/hour, $5000 bonus\n",
        "\n",
        "# Calculating and printing the salary for both employee and manager\n",
        "print(f\"{employee1.name}'s salary: ${employee1.calculate_salary()}\")  # Output: Alice's salary: $3200\n",
        "print(f\"{manager1.name}'s salary: ${manager1.calculate_salary()}\")    # Output: Bob's salary: $9500\n"
      ],
      "metadata": {
        "colab": {
          "base_uri": "https://localhost:8080/"
        },
        "id": "f1yRn7PwTtMo",
        "outputId": "fd9b1dc8-4e42-4d18-f817-e10f6e732a54"
      },
      "execution_count": 14,
      "outputs": [
        {
          "output_type": "stream",
          "name": "stdout",
          "text": [
            "Alice's salary: $3200\n",
            "Bob's salary: $9000\n"
          ]
        }
      ]
    },
    {
      "cell_type": "markdown",
      "source": [
        "15. Create a class Product with attributes name, price, and quantity. Implement a method total_price() that\n",
        "calculates the total price of the product."
      ],
      "metadata": {
        "id": "ACywqHujUH2f"
      }
    },
    {
      "cell_type": "code",
      "source": [
        "class Product:\n",
        "    def __init__(self, name, price, quantity):\n",
        "        self.name = name\n",
        "        self.price = price\n",
        "        self.quantity = quantity\n",
        "\n",
        "    # Method to calculate the total price of the product\n",
        "    def total_price(self):\n",
        "        return self.price * self.quantity\n",
        "\n",
        "# Creating an instance of the Product class\n",
        "product1 = Product(\"Laptop\", 1000, 3)\n",
        "product2 = Product(\"Smartphone\", 500, 5)\n",
        "\n",
        "# Calling the total_price method for both products\n",
        "print(f\"The total price of {product1.name} is: ${product1.total_price()}\")  # Output: $3000\n",
        "print(f\"The total price of {product2.name} is: ${product2.total_price()}\")  # Output: $2500\n"
      ],
      "metadata": {
        "colab": {
          "base_uri": "https://localhost:8080/"
        },
        "id": "RoUJcskPUN8g",
        "outputId": "54e4b43c-ec9f-4cb9-dcb9-f3d99de3950d"
      },
      "execution_count": 15,
      "outputs": [
        {
          "output_type": "stream",
          "name": "stdout",
          "text": [
            "The total price of Laptop is: $3000\n",
            "The total price of Smartphone is: $2500\n"
          ]
        }
      ]
    },
    {
      "cell_type": "markdown",
      "source": [
        "16. Create a class Animal with an abstract method sound(). Create two derived classes Cow and Sheep that\n",
        "implement the sound() method."
      ],
      "metadata": {
        "id": "nundPrjJUU55"
      }
    },
    {
      "cell_type": "code",
      "source": [
        "from abc import ABC, abstractmethod\n",
        "\n",
        "# Abstract Base Class Animal\n",
        "class Animal(ABC):\n",
        "    @abstractmethod\n",
        "    def sound(self):\n",
        "        pass  # Abstract method with no implementation\n",
        "\n",
        "# Derived class Cow\n",
        "class Cow(Animal):\n",
        "    def sound(self):\n",
        "        return \"Moo\"\n",
        "\n",
        "# Derived class Sheep\n",
        "class Sheep(Animal):\n",
        "    def sound(self):\n",
        "        return \"Baa\"\n",
        "\n",
        "# Creating instances of Cow and Sheep\n",
        "cow = Cow()\n",
        "sheep = Sheep()\n",
        "\n",
        "# Calling the sound method for both animals\n",
        "print(f\"The cow says: {cow.sound()}\")  # Output: Moo\n",
        "print(f\"The sheep says: {sheep.sound()}\")  # Output: Baa\n"
      ],
      "metadata": {
        "colab": {
          "base_uri": "https://localhost:8080/"
        },
        "id": "E2S3g5t0UWJG",
        "outputId": "011b926a-b28b-4920-e8ef-517c63186c98"
      },
      "execution_count": 16,
      "outputs": [
        {
          "output_type": "stream",
          "name": "stdout",
          "text": [
            "The cow says: Moo\n",
            "The sheep says: Baa\n"
          ]
        }
      ]
    },
    {
      "cell_type": "markdown",
      "source": [
        "17. Create a class Book with attributes title, author, and year_published. Add a method get_book_info() that\n",
        "returns a formatted string with the book's details."
      ],
      "metadata": {
        "id": "VpPRrmK3Ufcz"
      }
    },
    {
      "cell_type": "code",
      "source": [
        "class Book:\n",
        "    def __init__(self, title, author, year_published):\n",
        "        self.title = title\n",
        "        self.author = author\n",
        "        self.year_published = year_published\n",
        "\n",
        "    # Method to get the book's information as a formatted string\n",
        "    def get_book_info(self):\n",
        "        return f\"Title: {self.title}\\nAuthor: {self.author}\\nYear Published: {self.year_published}\"\n",
        "\n",
        "# Creating an instance of the Book class\n",
        "book1 = Book(\"To Kill a Mockingbird\", \"Harper Lee\", 1960)\n",
        "book2 = Book(\"1984\", \"George Orwell\", 1949)\n",
        "\n",
        "# Getting and printing the book information for both books\n",
        "print(book1.get_book_info())\n",
        "print()  # For a blank line between books\n",
        "print(book2.get_book_info())\n"
      ],
      "metadata": {
        "colab": {
          "base_uri": "https://localhost:8080/"
        },
        "id": "ydwnxUkZUyHd",
        "outputId": "454bbe36-765e-429e-9654-d112343eee2e"
      },
      "execution_count": 17,
      "outputs": [
        {
          "output_type": "stream",
          "name": "stdout",
          "text": [
            "Title: To Kill a Mockingbird\n",
            "Author: Harper Lee\n",
            "Year Published: 1960\n",
            "\n",
            "Title: 1984\n",
            "Author: George Orwell\n",
            "Year Published: 1949\n"
          ]
        }
      ]
    },
    {
      "cell_type": "markdown",
      "source": [
        "18. Create a class House with attributes address and price. Create a derived class Mansion that adds an\n",
        "attribute number_of_rooms"
      ],
      "metadata": {
        "id": "3rS_k-FmU9Y-"
      }
    },
    {
      "cell_type": "code",
      "source": [
        "# Base class House\n",
        "class House:\n",
        "    def __init__(self, address, price):\n",
        "        self.address = address\n",
        "        self.price = price\n",
        "\n",
        "    # Method to get the house details\n",
        "    def get_details(self):\n",
        "        return f\"Address: {self.address}\\nPrice: ${self.price}\"\n",
        "\n",
        "# Derived class Mansion\n",
        "class Mansion(House):\n",
        "    def __init__(self, address, price, number_of_rooms):\n",
        "        # Call the parent constructor to initialize address and price\n",
        "        super().__init__(address, price)\n",
        "        self.number_of_rooms = number_of_rooms\n",
        "\n",
        "    # Method to get mansion details including number of rooms\n",
        "    def get_details(self):\n",
        "        return f\"{super().get_details()}\\nNumber of Rooms: {self.number_of_rooms}\"\n",
        "\n",
        "# Creating instances of House and Mansion\n",
        "house = House(\"123 Elm Street\", 250000)\n",
        "mansion = Mansion(\"456 Oak Avenue\", 5000000, 20)\n",
        "\n",
        "# Printing the details of the house and mansion\n",
        "print(\"House Details:\")\n",
        "print(house.get_details())\n",
        "print()  # Blank line for separation\n",
        "print(\"Mansion Details:\")\n",
        "print(mansion.get_details())\n"
      ],
      "metadata": {
        "colab": {
          "base_uri": "https://localhost:8080/"
        },
        "id": "0mD8exXCU_TY",
        "outputId": "639420cd-a5c6-47ea-e133-ecc02b53c0b1"
      },
      "execution_count": 18,
      "outputs": [
        {
          "output_type": "stream",
          "name": "stdout",
          "text": [
            "House Details:\n",
            "Address: 123 Elm Street\n",
            "Price: $250000\n",
            "\n",
            "Mansion Details:\n",
            "Address: 456 Oak Avenue\n",
            "Price: $5000000\n",
            "Number of Rooms: 20\n"
          ]
        }
      ]
    }
  ]
}